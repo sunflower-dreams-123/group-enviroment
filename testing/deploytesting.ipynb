{
 "cells": [
  {
   "cell_type": "code",
   "execution_count": 2,
   "metadata": {},
   "outputs": [],
   "source": [
    "\n",
    "import torch\n",
    "from transformers import AutoTokenizer, AutoModelForTokenClassification\n",
    "\n",
    "tokenizer = AutoTokenizer.from_pretrained(\"all-mpnet-base-v2-finetuned-NER\", local_files_only=True)\n",
    "model = AutoModelForTokenClassification.from_pretrained(\"all-mpnet-base-v2-finetuned-NER\", local_files_only=True)"
   ]
  },
  {
   "cell_type": "code",
   "execution_count": 49,
   "metadata": {},
   "outputs": [],
   "source": [
    "def process_text(text):\n",
    "    # Tokenize the input text and prepare input IDs\n",
    "    inputs = tokenizer.encode(text, return_tensors=\"pt\")\n",
    "\n",
    "    # Predicting the tokens (words) classification\n",
    "    with torch.no_grad():\n",
    "        outputs = model(inputs)[0]\n",
    "\n",
    "    # Decode predictions\n",
    "    predictions = outputs.argmax(dim=2)\n",
    "    label_mapping = {     \"LABEL_0\": 'Others',    \"LABEL_1\": 'abbreviations',     \"LABEL_2\": 'Longform'}\n",
    "    # Convert ids to tokens and predictions to labels\n",
    "    tokens = tokenizer.convert_ids_to_tokens(inputs[0])\n",
    "    labels = [model.config.id2label[p.item()] for p in predictions[0]]\n",
    "    converted_list = [label_mapping[item] for item in labels]\n",
    "    # Pair tokens with their labels\n",
    "    \n",
    "    return list(zip(tokens, converted_list))"
   ]
  },
  {
   "cell_type": "code",
   "execution_count": 50,
   "metadata": {},
   "outputs": [
    {
     "data": {
      "text/plain": [
       "[('<s>', 'Others'),\n",
       " ('this', 'Others'),\n",
       " ('is', 'Others'),\n",
       " ('a', 'Others'),\n",
       " ('sentence', 'Others'),\n",
       " ('about', 'Others'),\n",
       " ('pet', 'abbreviations'),\n",
       " (',', 'Others'),\n",
       " ('also', 'Others'),\n",
       " ('known', 'Others'),\n",
       " ('as', 'Others'),\n",
       " ('poly', 'Longform'),\n",
       " ('##eth', 'Longform'),\n",
       " ('##yle', 'Longform'),\n",
       " ('##ne', 'Longform'),\n",
       " ('ter', 'Longform'),\n",
       " ('##ep', 'Longform'),\n",
       " ('##ht', 'Longform'),\n",
       " ('##hala', 'Longform'),\n",
       " ('##te', 'Longform'),\n",
       " ('.', 'Others'),\n",
       " ('</s>', 'Others')]"
      ]
     },
     "execution_count": 50,
     "metadata": {},
     "output_type": "execute_result"
    }
   ],
   "source": [
    "#process_text(\"Abbreviations : GEMS  Global Enteric Multicenter Study ; VIP  ventilated improved\")\n",
    "process_text(\"This is a sentence about PET, also known as Polyethylene terephthalate.\")"
   ]
  },
  {
   "cell_type": "code",
   "execution_count": 5,
   "metadata": {},
   "outputs": [
    {
     "name": "stdout",
     "output_type": "stream",
     "text": [
      "108898179\n"
     ]
    }
   ],
   "source": [
    "pytorch_total_params = sum(p.numel() for p in model.parameters())\n",
    "print(pytorch_total_params)"
   ]
  }
 ],
 "metadata": {
  "kernelspec": {
   "display_name": "Python 3",
   "language": "python",
   "name": "python3"
  },
  "language_info": {
   "codemirror_mode": {
    "name": "ipython",
    "version": 3
   },
   "file_extension": ".py",
   "mimetype": "text/x-python",
   "name": "python",
   "nbconvert_exporter": "python",
   "pygments_lexer": "ipython3",
   "version": "3.10.14"
  }
 },
 "nbformat": 4,
 "nbformat_minor": 2
}
