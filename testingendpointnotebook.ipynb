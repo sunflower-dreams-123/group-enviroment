{
 "cells": [
  {
   "cell_type": "code",
   "execution_count": 5,
   "metadata": {},
   "outputs": [
    {
     "name": "stdout",
     "output_type": "stream",
     "text": [
      "Response received successfully.\n",
      "poly - Longform\n",
      "##eth - Longform\n",
      "##yle - Longform\n",
      "##ne - Longform\n",
      "ter - Longform\n",
      "##ep - Longform\n",
      "##ht - Longform\n",
      "##hala - Longform\n",
      "##te - Longform\n"
     ]
    }
   ],
   "source": [
    "# Import necessary libraries\n",
    "import requests\n",
    " \n",
    "# Define the URL of the deployed endpoint\n",
    "url = \"http://127.0.0.1:8000\"\n",
    " \n",
    "def test_ner_service(input_text):\n",
    "    \"\"\"\n",
    "    Function to send a POST request to the NER service and print the results.\n",
    "    \"\"\"\n",
    "    response = requests.post(url, data={\"text\": input_text})\n",
    "    if response.status_code == 200:\n",
    "        print(\"Response received successfully.\")\n",
    "        from bs4 import BeautifulSoup\n",
    "        soup = BeautifulSoup(response.text, 'html.parser')\n",
    "        results = soup.find_all('li')\n",
    "        for result in results:\n",
    "            print(result.text)\n",
    "    else:\n",
    "        print(f\"Failed to get response. Status code: {response.status_code}\")\n",
    " \n",
    "# Test the service with some example text\n",
    "test_ner_service(\"Polyethylene terephthalate\")"
   ]
  },
  {
   "cell_type": "code",
   "execution_count": 6,
   "metadata": {},
   "outputs": [
    {
     "name": "stdout",
     "output_type": "stream",
     "text": [
      "Short text response time: 0.03 seconds, Status code: 200\n",
      "Medium text response time: 0.02 seconds, Status code: 200\n",
      "Long text response time: 0.08 seconds, Status code: 200\n",
      "Very long text response time: 0.22 seconds, Status code: 500\n",
      "Very longer text response time: 0.38 seconds, Status code: 200\n"
     ]
    }
   ],
   "source": [
    "#response time\n",
    "import time\n",
    " \n",
    "def measure_response_time(text):\n",
    "    start_time = time.time()\n",
    "    response = requests.post(url, data={\"text\": text})\n",
    "    end_time = time.time()\n",
    "    return end_time - start_time, response.status_code\n",
    " \n",
    "# Generate texts of varying lengths\n",
    "short_text = \"text\"\n",
    "medium_text = \"this is a very quite extremely not long piece of text\"\n",
    "long_text = \"this is a very quite extremely not long piece of text\" * 10\n",
    "very_long_text = \"this is a very quite extremely not long piece of text\" * 100\n",
    "very_longer_text = \"test \" * 510\n",
    "\n",
    "# Measure response times\n",
    "short_time, short_status = measure_response_time(short_text)\n",
    "medium_time, medium_status = measure_response_time(medium_text)\n",
    "long_time, long_status = measure_response_time(long_text)\n",
    "very_long_time, very_long_status = measure_response_time(very_long_text)\n",
    "very_longer_time, very_longer_status = measure_response_time(very_longer_text)\n",
    " \n",
    "# Print results\n",
    "print(f\"Short text response time: {short_time:.2f} seconds, Status code: {short_status}\")\n",
    "print(f\"Medium text response time: {medium_time:.2f} seconds, Status code: {medium_status}\")\n",
    "print(f\"Long text response time: {long_time:.2f} seconds, Status code: {long_status}\")\n",
    "print(f\"Very long text response time: {very_long_time:.2f} seconds, Status code: {very_long_status}\")\n",
    "print(f\"Very longer text response time: {very_longer_time:.2f} seconds, Status code: {very_longer_status}\")"
   ]
  },
  {
   "cell_type": "code",
   "execution_count": 4,
   "metadata": {},
   "outputs": [
    {
     "name": "stdout",
     "output_type": "stream",
     "text": [
      "Average response time for 1000 concurrent requests: 0.57 seconds\n",
      "Success rate for 1000 concurrent requests: 100.00%\n"
     ]
    }
   ],
   "source": [
    "#concurrency-\n",
    "import concurrent.futures\n",
    " \n",
    "def concurrent_test(text, num_requests):\n",
    "    with concurrent.futures.ThreadPoolExecutor() as executor:\n",
    "        future_to_request = {executor.submit(measure_response_time, text): i for i in range(num_requests)}\n",
    "        results = []\n",
    "        for future in concurrent.futures.as_completed(future_to_request):\n",
    "            results.append(future.result())\n",
    "        return results\n",
    " \n",
    "# Number of concurrent requests\n",
    "num_requests = 50\n",
    " \n",
    "# Perform concurrency test\n",
    "concurrent_results = concurrent_test(very_longer_text, num_requests)\n",
    " \n",
    "# Calculate average response time and success rate\n",
    "average_time = sum(result[0] for result in concurrent_results) / num_requests\n",
    "success_rate = sum(1 for result in concurrent_results if result[1] == 200) / num_requests\n",
    " \n",
    "# Print results\n",
    "print(f\"Average response time for {num_requests} concurrent requests: {average_time:.2f} seconds\")\n",
    "print(f\"Success rate for {num_requests} concurrent requests: {success_rate * 100:.2f}%\")"
   ]
  }
 ],
 "metadata": {
  "kernelspec": {
   "display_name": "Python 3",
   "language": "python",
   "name": "python3"
  },
  "language_info": {
   "codemirror_mode": {
    "name": "ipython",
    "version": 3
   },
   "file_extension": ".py",
   "mimetype": "text/x-python",
   "name": "python",
   "nbconvert_exporter": "python",
   "pygments_lexer": "ipython3",
   "version": "3.9.19"
  }
 },
 "nbformat": 4,
 "nbformat_minor": 2
}
