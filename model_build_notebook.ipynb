{
 "cells": [
  {
   "cell_type": "code",
   "execution_count": 2,
   "metadata": {},
   "outputs": [
    {
     "name": "stdout",
     "output_type": "stream",
     "text": [
      "Requirement already satisfied: datasets in c:\\users\\james\\desktop\\files\\education\\surrey\\nlp\\individual\\.conda\\lib\\site-packages (2.19.0)\n",
      "Requirement already satisfied: filelock in c:\\users\\james\\desktop\\files\\education\\surrey\\nlp\\individual\\.conda\\lib\\site-packages (from datasets) (3.13.4)\n",
      "Requirement already satisfied: numpy>=1.17 in c:\\users\\james\\desktop\\files\\education\\surrey\\nlp\\individual\\.conda\\lib\\site-packages (from datasets) (1.26.4)\n",
      "Requirement already satisfied: pyarrow>=12.0.0 in c:\\users\\james\\desktop\\files\\education\\surrey\\nlp\\individual\\.conda\\lib\\site-packages (from datasets) (16.0.0)\n",
      "Requirement already satisfied: pyarrow-hotfix in c:\\users\\james\\desktop\\files\\education\\surrey\\nlp\\individual\\.conda\\lib\\site-packages (from datasets) (0.6)\n",
      "Requirement already satisfied: dill<0.3.9,>=0.3.0 in c:\\users\\james\\desktop\\files\\education\\surrey\\nlp\\individual\\.conda\\lib\\site-packages (from datasets) (0.3.8)\n",
      "Requirement already satisfied: pandas in c:\\users\\james\\desktop\\files\\education\\surrey\\nlp\\individual\\.conda\\lib\\site-packages (from datasets) (2.2.1)\n",
      "Requirement already satisfied: requests>=2.19.0 in c:\\users\\james\\desktop\\files\\education\\surrey\\nlp\\individual\\.conda\\lib\\site-packages (from datasets) (2.31.0)\n",
      "Requirement already satisfied: tqdm>=4.62.1 in c:\\users\\james\\desktop\\files\\education\\surrey\\nlp\\individual\\.conda\\lib\\site-packages (from datasets) (4.66.2)\n",
      "Requirement already satisfied: xxhash in c:\\users\\james\\desktop\\files\\education\\surrey\\nlp\\individual\\.conda\\lib\\site-packages (from datasets) (3.4.1)\n",
      "Requirement already satisfied: multiprocess in c:\\users\\james\\desktop\\files\\education\\surrey\\nlp\\individual\\.conda\\lib\\site-packages (from datasets) (0.70.16)\n",
      "Requirement already satisfied: fsspec<=2024.3.1,>=2023.1.0 in c:\\users\\james\\desktop\\files\\education\\surrey\\nlp\\individual\\.conda\\lib\\site-packages (from fsspec[http]<=2024.3.1,>=2023.1.0->datasets) (2024.3.1)\n",
      "Requirement already satisfied: aiohttp in c:\\users\\james\\desktop\\files\\education\\surrey\\nlp\\individual\\.conda\\lib\\site-packages (from datasets) (3.9.5)\n",
      "Requirement already satisfied: huggingface-hub>=0.21.2 in c:\\users\\james\\desktop\\files\\education\\surrey\\nlp\\individual\\.conda\\lib\\site-packages (from datasets) (0.22.2)\n",
      "Requirement already satisfied: packaging in c:\\users\\james\\desktop\\files\\education\\surrey\\nlp\\individual\\.conda\\lib\\site-packages (from datasets) (24.0)\n",
      "Requirement already satisfied: pyyaml>=5.1 in c:\\users\\james\\desktop\\files\\education\\surrey\\nlp\\individual\\.conda\\lib\\site-packages (from datasets) (6.0.1)\n",
      "Requirement already satisfied: aiosignal>=1.1.2 in c:\\users\\james\\desktop\\files\\education\\surrey\\nlp\\individual\\.conda\\lib\\site-packages (from aiohttp->datasets) (1.3.1)\n",
      "Requirement already satisfied: attrs>=17.3.0 in c:\\users\\james\\desktop\\files\\education\\surrey\\nlp\\individual\\.conda\\lib\\site-packages (from aiohttp->datasets) (23.2.0)\n",
      "Requirement already satisfied: frozenlist>=1.1.1 in c:\\users\\james\\desktop\\files\\education\\surrey\\nlp\\individual\\.conda\\lib\\site-packages (from aiohttp->datasets) (1.4.1)\n",
      "Requirement already satisfied: multidict<7.0,>=4.5 in c:\\users\\james\\desktop\\files\\education\\surrey\\nlp\\individual\\.conda\\lib\\site-packages (from aiohttp->datasets) (6.0.5)\n",
      "Requirement already satisfied: yarl<2.0,>=1.0 in c:\\users\\james\\desktop\\files\\education\\surrey\\nlp\\individual\\.conda\\lib\\site-packages (from aiohttp->datasets) (1.9.4)\n",
      "Requirement already satisfied: async-timeout<5.0,>=4.0 in c:\\users\\james\\desktop\\files\\education\\surrey\\nlp\\individual\\.conda\\lib\\site-packages (from aiohttp->datasets) (4.0.3)\n",
      "Requirement already satisfied: typing-extensions>=3.7.4.3 in c:\\users\\james\\desktop\\files\\education\\surrey\\nlp\\individual\\.conda\\lib\\site-packages (from huggingface-hub>=0.21.2->datasets) (4.11.0)\n",
      "Requirement already satisfied: charset-normalizer<4,>=2 in c:\\users\\james\\desktop\\files\\education\\surrey\\nlp\\individual\\.conda\\lib\\site-packages (from requests>=2.19.0->datasets) (3.3.2)\n",
      "Requirement already satisfied: idna<4,>=2.5 in c:\\users\\james\\desktop\\files\\education\\surrey\\nlp\\individual\\.conda\\lib\\site-packages (from requests>=2.19.0->datasets) (3.7)\n",
      "Requirement already satisfied: urllib3<3,>=1.21.1 in c:\\users\\james\\desktop\\files\\education\\surrey\\nlp\\individual\\.conda\\lib\\site-packages (from requests>=2.19.0->datasets) (2.2.1)\n",
      "Requirement already satisfied: certifi>=2017.4.17 in c:\\users\\james\\desktop\\files\\education\\surrey\\nlp\\individual\\.conda\\lib\\site-packages (from requests>=2.19.0->datasets) (2024.2.2)\n",
      "Requirement already satisfied: colorama in c:\\users\\james\\desktop\\files\\education\\surrey\\nlp\\individual\\.conda\\lib\\site-packages (from tqdm>=4.62.1->datasets) (0.4.6)\n",
      "Requirement already satisfied: python-dateutil>=2.8.2 in c:\\users\\james\\desktop\\files\\education\\surrey\\nlp\\individual\\.conda\\lib\\site-packages (from pandas->datasets) (2.9.0)\n",
      "Requirement already satisfied: pytz>=2020.1 in c:\\users\\james\\desktop\\files\\education\\surrey\\nlp\\individual\\.conda\\lib\\site-packages (from pandas->datasets) (2024.1)\n",
      "Requirement already satisfied: tzdata>=2022.7 in c:\\users\\james\\desktop\\files\\education\\surrey\\nlp\\individual\\.conda\\lib\\site-packages (from pandas->datasets) (2023.3)\n",
      "Requirement already satisfied: six>=1.5 in c:\\users\\james\\desktop\\files\\education\\surrey\\nlp\\individual\\.conda\\lib\\site-packages (from python-dateutil>=2.8.2->pandas->datasets) (1.16.0)\n",
      "Note: you may need to restart the kernel to use updated packages.\n",
      "Requirement already satisfied: transformers in c:\\users\\james\\desktop\\files\\education\\surrey\\nlp\\individual\\.conda\\lib\\site-packages (4.36.2)\n",
      "Requirement already satisfied: filelock in c:\\users\\james\\desktop\\files\\education\\surrey\\nlp\\individual\\.conda\\lib\\site-packages (from transformers) (3.13.4)\n",
      "Requirement already satisfied: huggingface-hub<1.0,>=0.19.3 in c:\\users\\james\\desktop\\files\\education\\surrey\\nlp\\individual\\.conda\\lib\\site-packages (from transformers) (0.22.2)\n",
      "Requirement already satisfied: numpy>=1.17 in c:\\users\\james\\desktop\\files\\education\\surrey\\nlp\\individual\\.conda\\lib\\site-packages (from transformers) (1.26.4)\n",
      "Requirement already satisfied: packaging>=20.0 in c:\\users\\james\\desktop\\files\\education\\surrey\\nlp\\individual\\.conda\\lib\\site-packages (from transformers) (24.0)\n",
      "Requirement already satisfied: pyyaml>=5.1 in c:\\users\\james\\desktop\\files\\education\\surrey\\nlp\\individual\\.conda\\lib\\site-packages (from transformers) (6.0.1)\n",
      "Requirement already satisfied: regex!=2019.12.17 in c:\\users\\james\\desktop\\files\\education\\surrey\\nlp\\individual\\.conda\\lib\\site-packages (from transformers) (2024.4.16)\n",
      "Requirement already satisfied: requests in c:\\users\\james\\desktop\\files\\education\\surrey\\nlp\\individual\\.conda\\lib\\site-packages (from transformers) (2.31.0)\n",
      "Requirement already satisfied: tokenizers<0.19,>=0.14 in c:\\users\\james\\desktop\\files\\education\\surrey\\nlp\\individual\\.conda\\lib\\site-packages (from transformers) (0.15.2)\n",
      "Requirement already satisfied: safetensors>=0.3.1 in c:\\users\\james\\desktop\\files\\education\\surrey\\nlp\\individual\\.conda\\lib\\site-packages (from transformers) (0.4.3)\n",
      "Requirement already satisfied: tqdm>=4.27 in c:\\users\\james\\desktop\\files\\education\\surrey\\nlp\\individual\\.conda\\lib\\site-packages (from transformers) (4.66.2)\n",
      "Requirement already satisfied: fsspec>=2023.5.0 in c:\\users\\james\\desktop\\files\\education\\surrey\\nlp\\individual\\.conda\\lib\\site-packages (from huggingface-hub<1.0,>=0.19.3->transformers) (2024.3.1)\n",
      "Requirement already satisfied: typing-extensions>=3.7.4.3 in c:\\users\\james\\desktop\\files\\education\\surrey\\nlp\\individual\\.conda\\lib\\site-packages (from huggingface-hub<1.0,>=0.19.3->transformers) (4.11.0)\n",
      "Requirement already satisfied: colorama in c:\\users\\james\\desktop\\files\\education\\surrey\\nlp\\individual\\.conda\\lib\\site-packages (from tqdm>=4.27->transformers) (0.4.6)\n",
      "Requirement already satisfied: charset-normalizer<4,>=2 in c:\\users\\james\\desktop\\files\\education\\surrey\\nlp\\individual\\.conda\\lib\\site-packages (from requests->transformers) (3.3.2)\n",
      "Requirement already satisfied: idna<4,>=2.5 in c:\\users\\james\\desktop\\files\\education\\surrey\\nlp\\individual\\.conda\\lib\\site-packages (from requests->transformers) (3.7)\n",
      "Requirement already satisfied: urllib3<3,>=1.21.1 in c:\\users\\james\\desktop\\files\\education\\surrey\\nlp\\individual\\.conda\\lib\\site-packages (from requests->transformers) (2.2.1)\n",
      "Requirement already satisfied: certifi>=2017.4.17 in c:\\users\\james\\desktop\\files\\education\\surrey\\nlp\\individual\\.conda\\lib\\site-packages (from requests->transformers) (2024.2.2)\n",
      "Note: you may need to restart the kernel to use updated packages.\n",
      "Requirement already satisfied: spacy in c:\\users\\james\\desktop\\files\\education\\surrey\\nlp\\individual\\.conda\\lib\\site-packages (3.7.4)\n",
      "Requirement already satisfied: spacy-legacy<3.1.0,>=3.0.11 in c:\\users\\james\\desktop\\files\\education\\surrey\\nlp\\individual\\.conda\\lib\\site-packages (from spacy) (3.0.12)\n",
      "Requirement already satisfied: spacy-loggers<2.0.0,>=1.0.0 in c:\\users\\james\\desktop\\files\\education\\surrey\\nlp\\individual\\.conda\\lib\\site-packages (from spacy) (1.0.5)\n",
      "Requirement already satisfied: murmurhash<1.1.0,>=0.28.0 in c:\\users\\james\\desktop\\files\\education\\surrey\\nlp\\individual\\.conda\\lib\\site-packages (from spacy) (1.0.10)\n",
      "Requirement already satisfied: cymem<2.1.0,>=2.0.2 in c:\\users\\james\\desktop\\files\\education\\surrey\\nlp\\individual\\.conda\\lib\\site-packages (from spacy) (2.0.8)\n",
      "Requirement already satisfied: preshed<3.1.0,>=3.0.2 in c:\\users\\james\\desktop\\files\\education\\surrey\\nlp\\individual\\.conda\\lib\\site-packages (from spacy) (3.0.9)\n",
      "Requirement already satisfied: thinc<8.3.0,>=8.2.2 in c:\\users\\james\\desktop\\files\\education\\surrey\\nlp\\individual\\.conda\\lib\\site-packages (from spacy) (8.2.3)\n",
      "Requirement already satisfied: wasabi<1.2.0,>=0.9.1 in c:\\users\\james\\desktop\\files\\education\\surrey\\nlp\\individual\\.conda\\lib\\site-packages (from spacy) (1.1.2)\n",
      "Requirement already satisfied: srsly<3.0.0,>=2.4.3 in c:\\users\\james\\desktop\\files\\education\\surrey\\nlp\\individual\\.conda\\lib\\site-packages (from spacy) (2.4.8)\n",
      "Requirement already satisfied: catalogue<2.1.0,>=2.0.6 in c:\\users\\james\\desktop\\files\\education\\surrey\\nlp\\individual\\.conda\\lib\\site-packages (from spacy) (2.0.10)\n",
      "Requirement already satisfied: weasel<0.4.0,>=0.1.0 in c:\\users\\james\\desktop\\files\\education\\surrey\\nlp\\individual\\.conda\\lib\\site-packages (from spacy) (0.3.4)\n",
      "Requirement already satisfied: typer<0.10.0,>=0.3.0 in c:\\users\\james\\desktop\\files\\education\\surrey\\nlp\\individual\\.conda\\lib\\site-packages (from spacy) (0.9.4)\n",
      "Requirement already satisfied: smart-open<7.0.0,>=5.2.1 in c:\\users\\james\\desktop\\files\\education\\surrey\\nlp\\individual\\.conda\\lib\\site-packages (from spacy) (6.4.0)\n",
      "Requirement already satisfied: tqdm<5.0.0,>=4.38.0 in c:\\users\\james\\desktop\\files\\education\\surrey\\nlp\\individual\\.conda\\lib\\site-packages (from spacy) (4.66.2)\n",
      "Requirement already satisfied: requests<3.0.0,>=2.13.0 in c:\\users\\james\\desktop\\files\\education\\surrey\\nlp\\individual\\.conda\\lib\\site-packages (from spacy) (2.31.0)\n",
      "Requirement already satisfied: pydantic!=1.8,!=1.8.1,<3.0.0,>=1.7.4 in c:\\users\\james\\desktop\\files\\education\\surrey\\nlp\\individual\\.conda\\lib\\site-packages (from spacy) (2.7.1)\n",
      "Requirement already satisfied: jinja2 in c:\\users\\james\\desktop\\files\\education\\surrey\\nlp\\individual\\.conda\\lib\\site-packages (from spacy) (3.1.3)\n",
      "Requirement already satisfied: setuptools in c:\\users\\james\\desktop\\files\\education\\surrey\\nlp\\individual\\.conda\\lib\\site-packages (from spacy) (69.5.1)\n",
      "Requirement already satisfied: packaging>=20.0 in c:\\users\\james\\desktop\\files\\education\\surrey\\nlp\\individual\\.conda\\lib\\site-packages (from spacy) (24.0)\n",
      "Requirement already satisfied: langcodes<4.0.0,>=3.2.0 in c:\\users\\james\\desktop\\files\\education\\surrey\\nlp\\individual\\.conda\\lib\\site-packages (from spacy) (3.4.0)\n",
      "Requirement already satisfied: numpy>=1.19.0 in c:\\users\\james\\desktop\\files\\education\\surrey\\nlp\\individual\\.conda\\lib\\site-packages (from spacy) (1.26.4)\n",
      "Requirement already satisfied: language-data>=1.2 in c:\\users\\james\\desktop\\files\\education\\surrey\\nlp\\individual\\.conda\\lib\\site-packages (from langcodes<4.0.0,>=3.2.0->spacy) (1.2.0)\n",
      "Requirement already satisfied: annotated-types>=0.4.0 in c:\\users\\james\\desktop\\files\\education\\surrey\\nlp\\individual\\.conda\\lib\\site-packages (from pydantic!=1.8,!=1.8.1,<3.0.0,>=1.7.4->spacy) (0.6.0)\n",
      "Requirement already satisfied: pydantic-core==2.18.2 in c:\\users\\james\\desktop\\files\\education\\surrey\\nlp\\individual\\.conda\\lib\\site-packages (from pydantic!=1.8,!=1.8.1,<3.0.0,>=1.7.4->spacy) (2.18.2)\n",
      "Requirement already satisfied: typing-extensions>=4.6.1 in c:\\users\\james\\desktop\\files\\education\\surrey\\nlp\\individual\\.conda\\lib\\site-packages (from pydantic!=1.8,!=1.8.1,<3.0.0,>=1.7.4->spacy) (4.11.0)\n",
      "Requirement already satisfied: charset-normalizer<4,>=2 in c:\\users\\james\\desktop\\files\\education\\surrey\\nlp\\individual\\.conda\\lib\\site-packages (from requests<3.0.0,>=2.13.0->spacy) (3.3.2)\n",
      "Requirement already satisfied: idna<4,>=2.5 in c:\\users\\james\\desktop\\files\\education\\surrey\\nlp\\individual\\.conda\\lib\\site-packages (from requests<3.0.0,>=2.13.0->spacy) (3.7)\n",
      "Requirement already satisfied: urllib3<3,>=1.21.1 in c:\\users\\james\\desktop\\files\\education\\surrey\\nlp\\individual\\.conda\\lib\\site-packages (from requests<3.0.0,>=2.13.0->spacy) (2.2.1)\n",
      "Requirement already satisfied: certifi>=2017.4.17 in c:\\users\\james\\desktop\\files\\education\\surrey\\nlp\\individual\\.conda\\lib\\site-packages (from requests<3.0.0,>=2.13.0->spacy) (2024.2.2)\n",
      "Requirement already satisfied: blis<0.8.0,>=0.7.8 in c:\\users\\james\\desktop\\files\\education\\surrey\\nlp\\individual\\.conda\\lib\\site-packages (from thinc<8.3.0,>=8.2.2->spacy) (0.7.11)\n",
      "Requirement already satisfied: confection<1.0.0,>=0.0.1 in c:\\users\\james\\desktop\\files\\education\\surrey\\nlp\\individual\\.conda\\lib\\site-packages (from thinc<8.3.0,>=8.2.2->spacy) (0.1.4)\n",
      "Requirement already satisfied: colorama in c:\\users\\james\\desktop\\files\\education\\surrey\\nlp\\individual\\.conda\\lib\\site-packages (from tqdm<5.0.0,>=4.38.0->spacy) (0.4.6)\n",
      "Requirement already satisfied: click<9.0.0,>=7.1.1 in c:\\users\\james\\desktop\\files\\education\\surrey\\nlp\\individual\\.conda\\lib\\site-packages (from typer<0.10.0,>=0.3.0->spacy) (8.1.7)\n",
      "Requirement already satisfied: cloudpathlib<0.17.0,>=0.7.0 in c:\\users\\james\\desktop\\files\\education\\surrey\\nlp\\individual\\.conda\\lib\\site-packages (from weasel<0.4.0,>=0.1.0->spacy) (0.16.0)\n",
      "Requirement already satisfied: MarkupSafe>=2.0 in c:\\users\\james\\desktop\\files\\education\\surrey\\nlp\\individual\\.conda\\lib\\site-packages (from jinja2->spacy) (2.1.5)\n",
      "Requirement already satisfied: marisa-trie>=0.7.7 in c:\\users\\james\\desktop\\files\\education\\surrey\\nlp\\individual\\.conda\\lib\\site-packages (from language-data>=1.2->langcodes<4.0.0,>=3.2.0->spacy) (1.1.0)\n",
      "Note: you may need to restart the kernel to use updated packages.\n",
      "Requirement already satisfied: torch in c:\\users\\james\\desktop\\files\\education\\surrey\\nlp\\individual\\.conda\\lib\\site-packages (1.11.0+cu113)\n",
      "Requirement already satisfied: typing-extensions in c:\\users\\james\\desktop\\files\\education\\surrey\\nlp\\individual\\.conda\\lib\\site-packages (from torch) (4.11.0)\n",
      "Note: you may need to restart the kernel to use updated packages.\n",
      "Requirement already satisfied: spacy-transformers in c:\\users\\james\\desktop\\files\\education\\surrey\\nlp\\individual\\.conda\\lib\\site-packages (1.3.5)\n",
      "Requirement already satisfied: spacy<4.1.0,>=3.5.0 in c:\\users\\james\\desktop\\files\\education\\surrey\\nlp\\individual\\.conda\\lib\\site-packages (from spacy-transformers) (3.7.4)\n",
      "Requirement already satisfied: transformers<4.37.0,>=3.4.0 in c:\\users\\james\\desktop\\files\\education\\surrey\\nlp\\individual\\.conda\\lib\\site-packages (from spacy-transformers) (4.36.2)\n",
      "Requirement already satisfied: torch>=1.8.0 in c:\\users\\james\\desktop\\files\\education\\surrey\\nlp\\individual\\.conda\\lib\\site-packages (from spacy-transformers) (1.11.0+cu113)\n",
      "Requirement already satisfied: srsly<3.0.0,>=2.4.0 in c:\\users\\james\\desktop\\files\\education\\surrey\\nlp\\individual\\.conda\\lib\\site-packages (from spacy-transformers) (2.4.8)\n",
      "Requirement already satisfied: spacy-alignments<1.0.0,>=0.7.2 in c:\\users\\james\\desktop\\files\\education\\surrey\\nlp\\individual\\.conda\\lib\\site-packages (from spacy-transformers) (0.9.1)\n",
      "Requirement already satisfied: numpy>=1.19.0 in c:\\users\\james\\desktop\\files\\education\\surrey\\nlp\\individual\\.conda\\lib\\site-packages (from spacy-transformers) (1.26.4)\n",
      "Requirement already satisfied: spacy-legacy<3.1.0,>=3.0.11 in c:\\users\\james\\desktop\\files\\education\\surrey\\nlp\\individual\\.conda\\lib\\site-packages (from spacy<4.1.0,>=3.5.0->spacy-transformers) (3.0.12)\n",
      "Requirement already satisfied: spacy-loggers<2.0.0,>=1.0.0 in c:\\users\\james\\desktop\\files\\education\\surrey\\nlp\\individual\\.conda\\lib\\site-packages (from spacy<4.1.0,>=3.5.0->spacy-transformers) (1.0.5)\n",
      "Requirement already satisfied: murmurhash<1.1.0,>=0.28.0 in c:\\users\\james\\desktop\\files\\education\\surrey\\nlp\\individual\\.conda\\lib\\site-packages (from spacy<4.1.0,>=3.5.0->spacy-transformers) (1.0.10)\n",
      "Requirement already satisfied: cymem<2.1.0,>=2.0.2 in c:\\users\\james\\desktop\\files\\education\\surrey\\nlp\\individual\\.conda\\lib\\site-packages (from spacy<4.1.0,>=3.5.0->spacy-transformers) (2.0.8)\n",
      "Requirement already satisfied: preshed<3.1.0,>=3.0.2 in c:\\users\\james\\desktop\\files\\education\\surrey\\nlp\\individual\\.conda\\lib\\site-packages (from spacy<4.1.0,>=3.5.0->spacy-transformers) (3.0.9)\n",
      "Requirement already satisfied: thinc<8.3.0,>=8.2.2 in c:\\users\\james\\desktop\\files\\education\\surrey\\nlp\\individual\\.conda\\lib\\site-packages (from spacy<4.1.0,>=3.5.0->spacy-transformers) (8.2.3)\n",
      "Requirement already satisfied: wasabi<1.2.0,>=0.9.1 in c:\\users\\james\\desktop\\files\\education\\surrey\\nlp\\individual\\.conda\\lib\\site-packages (from spacy<4.1.0,>=3.5.0->spacy-transformers) (1.1.2)\n",
      "Requirement already satisfied: catalogue<2.1.0,>=2.0.6 in c:\\users\\james\\desktop\\files\\education\\surrey\\nlp\\individual\\.conda\\lib\\site-packages (from spacy<4.1.0,>=3.5.0->spacy-transformers) (2.0.10)\n",
      "Requirement already satisfied: weasel<0.4.0,>=0.1.0 in c:\\users\\james\\desktop\\files\\education\\surrey\\nlp\\individual\\.conda\\lib\\site-packages (from spacy<4.1.0,>=3.5.0->spacy-transformers) (0.3.4)\n",
      "Requirement already satisfied: typer<0.10.0,>=0.3.0 in c:\\users\\james\\desktop\\files\\education\\surrey\\nlp\\individual\\.conda\\lib\\site-packages (from spacy<4.1.0,>=3.5.0->spacy-transformers) (0.9.4)\n",
      "Requirement already satisfied: smart-open<7.0.0,>=5.2.1 in c:\\users\\james\\desktop\\files\\education\\surrey\\nlp\\individual\\.conda\\lib\\site-packages (from spacy<4.1.0,>=3.5.0->spacy-transformers) (6.4.0)\n",
      "Requirement already satisfied: tqdm<5.0.0,>=4.38.0 in c:\\users\\james\\desktop\\files\\education\\surrey\\nlp\\individual\\.conda\\lib\\site-packages (from spacy<4.1.0,>=3.5.0->spacy-transformers) (4.66.2)\n",
      "Requirement already satisfied: requests<3.0.0,>=2.13.0 in c:\\users\\james\\desktop\\files\\education\\surrey\\nlp\\individual\\.conda\\lib\\site-packages (from spacy<4.1.0,>=3.5.0->spacy-transformers) (2.31.0)\n",
      "Requirement already satisfied: pydantic!=1.8,!=1.8.1,<3.0.0,>=1.7.4 in c:\\users\\james\\desktop\\files\\education\\surrey\\nlp\\individual\\.conda\\lib\\site-packages (from spacy<4.1.0,>=3.5.0->spacy-transformers) (2.7.1)\n",
      "Requirement already satisfied: jinja2 in c:\\users\\james\\desktop\\files\\education\\surrey\\nlp\\individual\\.conda\\lib\\site-packages (from spacy<4.1.0,>=3.5.0->spacy-transformers) (3.1.3)\n",
      "Requirement already satisfied: setuptools in c:\\users\\james\\desktop\\files\\education\\surrey\\nlp\\individual\\.conda\\lib\\site-packages (from spacy<4.1.0,>=3.5.0->spacy-transformers) (69.5.1)\n",
      "Requirement already satisfied: packaging>=20.0 in c:\\users\\james\\desktop\\files\\education\\surrey\\nlp\\individual\\.conda\\lib\\site-packages (from spacy<4.1.0,>=3.5.0->spacy-transformers) (24.0)\n",
      "Requirement already satisfied: langcodes<4.0.0,>=3.2.0 in c:\\users\\james\\desktop\\files\\education\\surrey\\nlp\\individual\\.conda\\lib\\site-packages (from spacy<4.1.0,>=3.5.0->spacy-transformers) (3.4.0)\n",
      "Requirement already satisfied: typing-extensions in c:\\users\\james\\desktop\\files\\education\\surrey\\nlp\\individual\\.conda\\lib\\site-packages (from torch>=1.8.0->spacy-transformers) (4.11.0)\n",
      "Requirement already satisfied: filelock in c:\\users\\james\\desktop\\files\\education\\surrey\\nlp\\individual\\.conda\\lib\\site-packages (from transformers<4.37.0,>=3.4.0->spacy-transformers) (3.13.4)\n",
      "Requirement already satisfied: huggingface-hub<1.0,>=0.19.3 in c:\\users\\james\\desktop\\files\\education\\surrey\\nlp\\individual\\.conda\\lib\\site-packages (from transformers<4.37.0,>=3.4.0->spacy-transformers) (0.22.2)\n",
      "Requirement already satisfied: pyyaml>=5.1 in c:\\users\\james\\desktop\\files\\education\\surrey\\nlp\\individual\\.conda\\lib\\site-packages (from transformers<4.37.0,>=3.4.0->spacy-transformers) (6.0.1)\n",
      "Requirement already satisfied: regex!=2019.12.17 in c:\\users\\james\\desktop\\files\\education\\surrey\\nlp\\individual\\.conda\\lib\\site-packages (from transformers<4.37.0,>=3.4.0->spacy-transformers) (2024.4.16)\n",
      "Requirement already satisfied: tokenizers<0.19,>=0.14 in c:\\users\\james\\desktop\\files\\education\\surrey\\nlp\\individual\\.conda\\lib\\site-packages (from transformers<4.37.0,>=3.4.0->spacy-transformers) (0.15.2)\n",
      "Requirement already satisfied: safetensors>=0.3.1 in c:\\users\\james\\desktop\\files\\education\\surrey\\nlp\\individual\\.conda\\lib\\site-packages (from transformers<4.37.0,>=3.4.0->spacy-transformers) (0.4.3)\n",
      "Requirement already satisfied: fsspec>=2023.5.0 in c:\\users\\james\\desktop\\files\\education\\surrey\\nlp\\individual\\.conda\\lib\\site-packages (from huggingface-hub<1.0,>=0.19.3->transformers<4.37.0,>=3.4.0->spacy-transformers) (2024.3.1)\n",
      "Requirement already satisfied: language-data>=1.2 in c:\\users\\james\\desktop\\files\\education\\surrey\\nlp\\individual\\.conda\\lib\\site-packages (from langcodes<4.0.0,>=3.2.0->spacy<4.1.0,>=3.5.0->spacy-transformers) (1.2.0)\n",
      "Requirement already satisfied: annotated-types>=0.4.0 in c:\\users\\james\\desktop\\files\\education\\surrey\\nlp\\individual\\.conda\\lib\\site-packages (from pydantic!=1.8,!=1.8.1,<3.0.0,>=1.7.4->spacy<4.1.0,>=3.5.0->spacy-transformers) (0.6.0)\n",
      "Requirement already satisfied: pydantic-core==2.18.2 in c:\\users\\james\\desktop\\files\\education\\surrey\\nlp\\individual\\.conda\\lib\\site-packages (from pydantic!=1.8,!=1.8.1,<3.0.0,>=1.7.4->spacy<4.1.0,>=3.5.0->spacy-transformers) (2.18.2)\n",
      "Requirement already satisfied: charset-normalizer<4,>=2 in c:\\users\\james\\desktop\\files\\education\\surrey\\nlp\\individual\\.conda\\lib\\site-packages (from requests<3.0.0,>=2.13.0->spacy<4.1.0,>=3.5.0->spacy-transformers) (3.3.2)\n",
      "Requirement already satisfied: idna<4,>=2.5 in c:\\users\\james\\desktop\\files\\education\\surrey\\nlp\\individual\\.conda\\lib\\site-packages (from requests<3.0.0,>=2.13.0->spacy<4.1.0,>=3.5.0->spacy-transformers) (3.7)\n",
      "Requirement already satisfied: urllib3<3,>=1.21.1 in c:\\users\\james\\desktop\\files\\education\\surrey\\nlp\\individual\\.conda\\lib\\site-packages (from requests<3.0.0,>=2.13.0->spacy<4.1.0,>=3.5.0->spacy-transformers) (2.2.1)\n",
      "Requirement already satisfied: certifi>=2017.4.17 in c:\\users\\james\\desktop\\files\\education\\surrey\\nlp\\individual\\.conda\\lib\\site-packages (from requests<3.0.0,>=2.13.0->spacy<4.1.0,>=3.5.0->spacy-transformers) (2024.2.2)\n",
      "Requirement already satisfied: blis<0.8.0,>=0.7.8 in c:\\users\\james\\desktop\\files\\education\\surrey\\nlp\\individual\\.conda\\lib\\site-packages (from thinc<8.3.0,>=8.2.2->spacy<4.1.0,>=3.5.0->spacy-transformers) (0.7.11)\n",
      "Requirement already satisfied: confection<1.0.0,>=0.0.1 in c:\\users\\james\\desktop\\files\\education\\surrey\\nlp\\individual\\.conda\\lib\\site-packages (from thinc<8.3.0,>=8.2.2->spacy<4.1.0,>=3.5.0->spacy-transformers) (0.1.4)\n",
      "Requirement already satisfied: colorama in c:\\users\\james\\desktop\\files\\education\\surrey\\nlp\\individual\\.conda\\lib\\site-packages (from tqdm<5.0.0,>=4.38.0->spacy<4.1.0,>=3.5.0->spacy-transformers) (0.4.6)\n",
      "Requirement already satisfied: click<9.0.0,>=7.1.1 in c:\\users\\james\\desktop\\files\\education\\surrey\\nlp\\individual\\.conda\\lib\\site-packages (from typer<0.10.0,>=0.3.0->spacy<4.1.0,>=3.5.0->spacy-transformers) (8.1.7)\n",
      "Requirement already satisfied: cloudpathlib<0.17.0,>=0.7.0 in c:\\users\\james\\desktop\\files\\education\\surrey\\nlp\\individual\\.conda\\lib\\site-packages (from weasel<0.4.0,>=0.1.0->spacy<4.1.0,>=3.5.0->spacy-transformers) (0.16.0)\n",
      "Requirement already satisfied: MarkupSafe>=2.0 in c:\\users\\james\\desktop\\files\\education\\surrey\\nlp\\individual\\.conda\\lib\\site-packages (from jinja2->spacy<4.1.0,>=3.5.0->spacy-transformers) (2.1.5)\n",
      "Requirement already satisfied: marisa-trie>=0.7.7 in c:\\users\\james\\desktop\\files\\education\\surrey\\nlp\\individual\\.conda\\lib\\site-packages (from language-data>=1.2->langcodes<4.0.0,>=3.2.0->spacy<4.1.0,>=3.5.0->spacy-transformers) (1.1.0)\n",
      "Note: you may need to restart the kernel to use updated packages.\n",
      "Requirement already satisfied: transformers[torch] in c:\\users\\james\\desktop\\files\\education\\surrey\\nlp\\individual\\.conda\\lib\\site-packages (4.36.2)\n",
      "Requirement already satisfied: filelock in c:\\users\\james\\desktop\\files\\education\\surrey\\nlp\\individual\\.conda\\lib\\site-packages (from transformers[torch]) (3.13.4)\n",
      "Requirement already satisfied: huggingface-hub<1.0,>=0.19.3 in c:\\users\\james\\desktop\\files\\education\\surrey\\nlp\\individual\\.conda\\lib\\site-packages (from transformers[torch]) (0.22.2)\n",
      "Requirement already satisfied: numpy>=1.17 in c:\\users\\james\\desktop\\files\\education\\surrey\\nlp\\individual\\.conda\\lib\\site-packages (from transformers[torch]) (1.26.4)\n",
      "Requirement already satisfied: packaging>=20.0 in c:\\users\\james\\desktop\\files\\education\\surrey\\nlp\\individual\\.conda\\lib\\site-packages (from transformers[torch]) (24.0)\n",
      "Requirement already satisfied: pyyaml>=5.1 in c:\\users\\james\\desktop\\files\\education\\surrey\\nlp\\individual\\.conda\\lib\\site-packages (from transformers[torch]) (6.0.1)\n",
      "Requirement already satisfied: regex!=2019.12.17 in c:\\users\\james\\desktop\\files\\education\\surrey\\nlp\\individual\\.conda\\lib\\site-packages (from transformers[torch]) (2024.4.16)\n",
      "Requirement already satisfied: requests in c:\\users\\james\\desktop\\files\\education\\surrey\\nlp\\individual\\.conda\\lib\\site-packages (from transformers[torch]) (2.31.0)\n",
      "Requirement already satisfied: tokenizers<0.19,>=0.14 in c:\\users\\james\\desktop\\files\\education\\surrey\\nlp\\individual\\.conda\\lib\\site-packages (from transformers[torch]) (0.15.2)\n",
      "Requirement already satisfied: safetensors>=0.3.1 in c:\\users\\james\\desktop\\files\\education\\surrey\\nlp\\individual\\.conda\\lib\\site-packages (from transformers[torch]) (0.4.3)\n",
      "Requirement already satisfied: tqdm>=4.27 in c:\\users\\james\\desktop\\files\\education\\surrey\\nlp\\individual\\.conda\\lib\\site-packages (from transformers[torch]) (4.66.2)\n",
      "Requirement already satisfied: torch!=1.12.0,>=1.10 in c:\\users\\james\\desktop\\files\\education\\surrey\\nlp\\individual\\.conda\\lib\\site-packages (from transformers[torch]) (1.11.0+cu113)\n",
      "Requirement already satisfied: accelerate>=0.21.0 in c:\\users\\james\\desktop\\files\\education\\surrey\\nlp\\individual\\.conda\\lib\\site-packages (from transformers[torch]) (0.29.3)\n",
      "Requirement already satisfied: psutil in c:\\users\\james\\desktop\\files\\education\\surrey\\nlp\\individual\\.conda\\lib\\site-packages (from accelerate>=0.21.0->transformers[torch]) (5.9.8)\n",
      "Requirement already satisfied: fsspec>=2023.5.0 in c:\\users\\james\\desktop\\files\\education\\surrey\\nlp\\individual\\.conda\\lib\\site-packages (from huggingface-hub<1.0,>=0.19.3->transformers[torch]) (2024.3.1)\n",
      "Requirement already satisfied: typing-extensions>=3.7.4.3 in c:\\users\\james\\desktop\\files\\education\\surrey\\nlp\\individual\\.conda\\lib\\site-packages (from huggingface-hub<1.0,>=0.19.3->transformers[torch]) (4.11.0)\n",
      "Requirement already satisfied: colorama in c:\\users\\james\\desktop\\files\\education\\surrey\\nlp\\individual\\.conda\\lib\\site-packages (from tqdm>=4.27->transformers[torch]) (0.4.6)\n",
      "Requirement already satisfied: charset-normalizer<4,>=2 in c:\\users\\james\\desktop\\files\\education\\surrey\\nlp\\individual\\.conda\\lib\\site-packages (from requests->transformers[torch]) (3.3.2)\n",
      "Requirement already satisfied: idna<4,>=2.5 in c:\\users\\james\\desktop\\files\\education\\surrey\\nlp\\individual\\.conda\\lib\\site-packages (from requests->transformers[torch]) (3.7)\n",
      "Requirement already satisfied: urllib3<3,>=1.21.1 in c:\\users\\james\\desktop\\files\\education\\surrey\\nlp\\individual\\.conda\\lib\\site-packages (from requests->transformers[torch]) (2.2.1)\n",
      "Requirement already satisfied: certifi>=2017.4.17 in c:\\users\\james\\desktop\\files\\education\\surrey\\nlp\\individual\\.conda\\lib\\site-packages (from requests->transformers[torch]) (2024.2.2)\n",
      "Note: you may need to restart the kernel to use updated packages.\n",
      "Requirement already satisfied: seqeval in c:\\users\\james\\desktop\\files\\education\\surrey\\nlp\\individual\\.conda\\lib\\site-packages (1.2.2)Note: you may need to restart the kernel to use updated packages.\n",
      "\n",
      "Requirement already satisfied: numpy>=1.14.0 in c:\\users\\james\\desktop\\files\\education\\surrey\\nlp\\individual\\.conda\\lib\\site-packages (from seqeval) (1.26.4)\n",
      "Requirement already satisfied: scikit-learn>=0.21.3 in c:\\users\\james\\desktop\\files\\education\\surrey\\nlp\\individual\\.conda\\lib\\site-packages (from seqeval) (1.4.2)\n",
      "Requirement already satisfied: scipy>=1.6.0 in c:\\users\\james\\desktop\\files\\education\\surrey\\nlp\\individual\\.conda\\lib\\site-packages (from scikit-learn>=0.21.3->seqeval) (1.13.0)\n",
      "Requirement already satisfied: joblib>=1.2.0 in c:\\users\\james\\desktop\\files\\education\\surrey\\nlp\\individual\\.conda\\lib\\site-packages (from scikit-learn>=0.21.3->seqeval) (1.4.0)\n",
      "Requirement already satisfied: threadpoolctl>=2.0.0 in c:\\users\\james\\desktop\\files\\education\\surrey\\nlp\\individual\\.conda\\lib\\site-packages (from scikit-learn>=0.21.3->seqeval) (3.4.0)\n",
      "Requirement already satisfied: pandas in c:\\users\\james\\desktop\\files\\education\\surrey\\nlp\\individual\\.conda\\lib\\site-packages (2.2.1)\n",
      "Requirement already satisfied: numpy<2,>=1.22.4 in c:\\users\\james\\desktop\\files\\education\\surrey\\nlp\\individual\\.conda\\lib\\site-packages (from pandas) (1.26.4)\n",
      "Requirement already satisfied: python-dateutil>=2.8.2 in c:\\users\\james\\desktop\\files\\education\\surrey\\nlp\\individual\\.conda\\lib\\site-packages (from pandas) (2.9.0)\n",
      "Requirement already satisfied: pytz>=2020.1 in c:\\users\\james\\desktop\\files\\education\\surrey\\nlp\\individual\\.conda\\lib\\site-packages (from pandas) (2024.1)\n",
      "Requirement already satisfied: tzdata>=2022.7 in c:\\users\\james\\desktop\\files\\education\\surrey\\nlp\\individual\\.conda\\lib\\site-packages (from pandas) (2023.3)\n",
      "Requirement already satisfied: six>=1.5 in c:\\users\\james\\desktop\\files\\education\\surrey\\nlp\\individual\\.conda\\lib\\site-packages (from python-dateutil>=2.8.2->pandas) (1.16.0)\n",
      "Note: you may need to restart the kernel to use updated packages.\n",
      "Requirement already satisfied: matplotlib in c:\\users\\james\\desktop\\files\\education\\surrey\\nlp\\individual\\.conda\\lib\\site-packages (3.8.4)\n",
      "Requirement already satisfied: contourpy>=1.0.1 in c:\\users\\james\\desktop\\files\\education\\surrey\\nlp\\individual\\.conda\\lib\\site-packages (from matplotlib) (1.2.1)\n",
      "Requirement already satisfied: cycler>=0.10 in c:\\users\\james\\desktop\\files\\education\\surrey\\nlp\\individual\\.conda\\lib\\site-packages (from matplotlib) (0.12.1)\n",
      "Requirement already satisfied: fonttools>=4.22.0 in c:\\users\\james\\desktop\\files\\education\\surrey\\nlp\\individual\\.conda\\lib\\site-packages (from matplotlib) (4.51.0)\n",
      "Requirement already satisfied: kiwisolver>=1.3.1 in c:\\users\\james\\desktop\\files\\education\\surrey\\nlp\\individual\\.conda\\lib\\site-packages (from matplotlib) (1.4.5)\n",
      "Requirement already satisfied: numpy>=1.21 in c:\\users\\james\\desktop\\files\\education\\surrey\\nlp\\individual\\.conda\\lib\\site-packages (from matplotlib) (1.26.4)\n",
      "Requirement already satisfied: packaging>=20.0 in c:\\users\\james\\desktop\\files\\education\\surrey\\nlp\\individual\\.conda\\lib\\site-packages (from matplotlib) (24.0)\n",
      "Requirement already satisfied: pillow>=8 in c:\\users\\james\\desktop\\files\\education\\surrey\\nlp\\individual\\.conda\\lib\\site-packages (from matplotlib) (10.3.0)\n",
      "Requirement already satisfied: pyparsing>=2.3.1 in c:\\users\\james\\desktop\\files\\education\\surrey\\nlp\\individual\\.conda\\lib\\site-packages (from matplotlib) (3.1.2)\n",
      "Requirement already satisfied: python-dateutil>=2.7 in c:\\users\\james\\desktop\\files\\education\\surrey\\nlp\\individual\\.conda\\lib\\site-packages (from matplotlib) (2.9.0)\n",
      "Requirement already satisfied: six>=1.5 in c:\\users\\james\\desktop\\files\\education\\surrey\\nlp\\individual\\.conda\\lib\\site-packages (from python-dateutil>=2.7->matplotlib) (1.16.0)\n",
      "Note: you may need to restart the kernel to use updated packages.\n",
      "Looking in links: https://download.pytorch.org/whl/cu113/torch_stable.html\n",
      "Requirement already satisfied: torch==1.11.0+cu113 in c:\\users\\james\\desktop\\files\\education\\surrey\\nlp\\individual\\.conda\\lib\\site-packages (1.11.0+cu113)\n",
      "Requirement already satisfied: torchdata==0.3.0 in c:\\users\\james\\desktop\\files\\education\\surrey\\nlp\\individual\\.conda\\lib\\site-packages (0.3.0)\n",
      "Requirement already satisfied: torchtext==0.12.0 in c:\\users\\james\\desktop\\files\\education\\surrey\\nlp\\individual\\.conda\\lib\\site-packages (0.12.0)\n",
      "Requirement already satisfied: typing-extensions in c:\\users\\james\\desktop\\files\\education\\surrey\\nlp\\individual\\.conda\\lib\\site-packages (from torch==1.11.0+cu113) (4.11.0)\n",
      "Requirement already satisfied: urllib3>=1.25 in c:\\users\\james\\desktop\\files\\education\\surrey\\nlp\\individual\\.conda\\lib\\site-packages (from torchdata==0.3.0) (2.2.1)\n",
      "Requirement already satisfied: requests in c:\\users\\james\\desktop\\files\\education\\surrey\\nlp\\individual\\.conda\\lib\\site-packages (from torchdata==0.3.0) (2.31.0)\n",
      "Requirement already satisfied: tqdm in c:\\users\\james\\desktop\\files\\education\\surrey\\nlp\\individual\\.conda\\lib\\site-packages (from torchtext==0.12.0) (4.66.2)\n",
      "Requirement already satisfied: numpy in c:\\users\\james\\desktop\\files\\education\\surrey\\nlp\\individual\\.conda\\lib\\site-packages (from torchtext==0.12.0) (1.26.4)\n",
      "Requirement already satisfied: charset-normalizer<4,>=2 in c:\\users\\james\\desktop\\files\\education\\surrey\\nlp\\individual\\.conda\\lib\\site-packages (from requests->torchdata==0.3.0) (3.3.2)\n",
      "Requirement already satisfied: idna<4,>=2.5 in c:\\users\\james\\desktop\\files\\education\\surrey\\nlp\\individual\\.conda\\lib\\site-packages (from requests->torchdata==0.3.0) (3.7)\n",
      "Requirement already satisfied: certifi>=2017.4.17 in c:\\users\\james\\desktop\\files\\education\\surrey\\nlp\\individual\\.conda\\lib\\site-packages (from requests->torchdata==0.3.0) (2024.2.2)\n",
      "Requirement already satisfied: colorama in c:\\users\\james\\desktop\\files\\education\\surrey\\nlp\\individual\\.conda\\lib\\site-packages (from tqdm->torchtext==0.12.0) (0.4.6)\n",
      "Note: you may need to restart the kernel to use updated packages.\n"
     ]
    }
   ],
   "source": [
    "# Install dependencies\n",
    "#%pip install datasets\n",
    "#%pip install transformers\n",
    "#%pip install spacy\n",
    "#%pip install torch\n",
    "#%pip install spacy-transformers\n",
    "#%pip install transformers[torch]\n",
    "#%pip install seqeval\n",
    "#%pip install pandas\n",
    "#%pip install matplotlib\n",
    "#%pip install torch==1.11.0+cu113 torchdata==0.3.0 torchtext==0.12.0 -f https://download.pytorch.org/whl/cu113/torch_stable.html"
   ]
  },
  {
   "cell_type": "code",
   "execution_count": 1,
   "metadata": {},
   "outputs": [
    {
     "name": "stderr",
     "output_type": "stream",
     "text": [
      "c:\\Users\\James\\Desktop\\Files\\Education\\Surrey\\NLP\\group-enviroment\\.conda\\lib\\site-packages\\tqdm\\auto.py:21: TqdmWarning: IProgress not found. Please update jupyter and ipywidgets. See https://ipywidgets.readthedocs.io/en/stable/user_install.html\n",
      "  from .autonotebook import tqdm as notebook_tqdm\n",
      "Token indices sequence length is longer than the specified maximum sequence length for this model (542 > 512). Running this sequence through the model will result in indexing errors\n",
      "C:\\Users\\James\\AppData\\Local\\Temp\\ipykernel_26188\\536986443.py:83: FutureWarning: load_metric is deprecated and will be removed in the next major version of datasets. Use 'evaluate.load' instead, from the new library 🤗 Evaluate: https://huggingface.co/docs/evaluate\n",
      "  metric = load_metric(\"seqeval\",trust_remote_code=True)\n",
      "c:\\Users\\James\\Desktop\\Files\\Education\\Surrey\\NLP\\group-enviroment\\.conda\\lib\\site-packages\\accelerate\\accelerator.py:446: FutureWarning: Passing the following arguments to `Accelerator` is deprecated and will be removed in version 1.0 of Accelerate: dict_keys(['dispatch_batches', 'split_batches']). Please pass an `accelerate.DataLoaderConfiguration` instead: \n",
      "dataloader_config = DataLoaderConfiguration(dispatch_batches=None, split_batches=False)\n",
      "  warnings.warn(\n"
     ]
    }
   ],
   "source": [
    "# load dataset and get the dataset splits\n",
    "from datasets import load_dataset, load_metric\n",
    "dataset = load_dataset(\"surrey-nlp/PLOD-CW\")\n",
    "train_dataset = dataset[\"train\"]\n",
    "val_dataset = dataset[\"validation\"]\n",
    "test_dataset = dataset[\"test\"]  \n",
    "# Take labels from strings to class indexes for use in data analysis\n",
    "label_encoding = {\"B-O\": 0, \"B-AC\": 1, \"B-LF\": 2, \"I-LF\": 2}\n",
    "\n",
    "train_label_list = []\n",
    "for sample in train_dataset[\"ner_tags\"]:\n",
    "    train_label_list.append([label_encoding[tag] for tag in sample])\n",
    "\n",
    "val_label_list = []\n",
    "for sample in val_dataset[\"ner_tags\"]:\n",
    "    val_label_list.append([label_encoding[tag] for tag in sample])\n",
    "\n",
    "test_label_list = []\n",
    "for sample in test_dataset[\"ner_tags\"]:\n",
    "    test_label_list.append([label_encoding[tag] for tag in sample])\n",
    "\n",
    "\n",
    "from sentence_transformers import SentenceTransformer\n",
    "from transformers import AutoTokenizer, AutoModelForTokenClassification\n",
    "\n",
    "tokenizer2 = AutoTokenizer.from_pretrained(\"sentence-transformers/all-mpnet-base-v2\")\n",
    "model2 = AutoModelForTokenClassification.from_pretrained(\"sentence-transformers/all-mpnet-base-v2\", num_labels=3)\n",
    "\n",
    "#tokenizer2 = AutoTokenizer.from_pretrained(\"all-mpnet-base-v2-finetuned-NER\", local_files_only=True)\n",
    "#model2 = AutoModelForTokenClassification.from_pretrained(\"all-mpnet-base-v2-finetuned-NER\", num_labels=3, local_files_only=True)\n",
    "\n",
    "\n",
    "#                          \n",
    "tokenized_input = tokenizer2(train_dataset[\"tokens\"], is_split_into_words=True)\n",
    "def tokenize_and_align_labels(train_dataset, list_name):\n",
    "    tokenized_inputs = tokenizer2(train_dataset[\"tokens\"], truncation=True, is_split_into_words=True) ## For some models, you may need to set max_length to approximately 500.\n",
    "\n",
    "    labels = []\n",
    "    for i, label in enumerate(list_name):\n",
    "        word_ids = tokenized_inputs.word_ids(batch_index=i)\n",
    "        previous_word_idx = None\n",
    "        label_ids = []\n",
    "        for word_idx in word_ids:\n",
    "            # Special tokens have a word id that is None. We set the label to -100 so they are automatically\n",
    "            # ignored in the loss function.\n",
    "            if word_idx is None:\n",
    "                label_ids.append(-100)\n",
    "            # We set the label for the first token of each word.\n",
    "            elif word_idx != previous_word_idx:\n",
    "                label_ids.append(label[word_idx])\n",
    "            # For the other tokens in a word, we set the label to either the current label or -100, depending on\n",
    "            # the label_all_tokens flag.\n",
    "            else:\n",
    "                label_ids.append(label[word_idx])\n",
    "            previous_word_idx = word_idx\n",
    "\n",
    "        labels.append(label_ids)\n",
    "\n",
    "    tokenized_inputs[\"labels\"] = labels\n",
    "    return tokenized_inputs\n",
    "\n",
    "tokenized_train_datasets = tokenize_and_align_labels(train_dataset, train_label_list)\n",
    "tokenized_val_datasets = tokenize_and_align_labels(val_dataset, val_label_list)\n",
    "tokenized_test_datasets = tokenize_and_align_labels(test_dataset, test_label_list)\n",
    "\n",
    "def turn_dict_to_list_of_dict(d):\n",
    "    new_list = []\n",
    "\n",
    "    for labels, inputs in zip(d[\"labels\"], d[\"input_ids\"]):\n",
    "        entry = {\"input_ids\": inputs, \"labels\": labels}\n",
    "        new_list.append(entry)\n",
    "\n",
    "    return new_list\n",
    "\n",
    "tokenised_train = turn_dict_to_list_of_dict(tokenized_train_datasets)\n",
    "tokenised_val = turn_dict_to_list_of_dict(tokenized_val_datasets)\n",
    "tokenised_test = turn_dict_to_list_of_dict(tokenized_test_datasets)\n",
    "\n",
    "from transformers import DataCollatorForTokenClassification\n",
    "data_collator = DataCollatorForTokenClassification(tokenizer2)\n",
    "\n",
    "import numpy as np\n",
    "\n",
    "metric = load_metric(\"seqeval\",trust_remote_code=True)\n",
    "def compute_metrics(p):\n",
    "    predictions, labels = p\n",
    "    predictions = np.argmax(predictions, axis=2)\n",
    "\n",
    "    # Remove ignored index (special tokens)\n",
    "    true_predictions = [\n",
    "        [train_label_list[p] for (p, l) in zip(prediction, label) if l != -100]\n",
    "        for prediction, label in zip(predictions, labels)\n",
    "    ]\n",
    "    true_labels = [\n",
    "        [train_label_list[l] for (p, l) in zip(prediction, label) if l != -100]\n",
    "        for prediction, label in zip(predictions, labels)\n",
    "    ]\n",
    "\n",
    "    results = metric.compute(predictions=true_predictions, references=true_labels)\n",
    "    return {\n",
    "        \"precision\": results[\"overall_precision\"],\n",
    "        \"recall\": results[\"overall_recall\"],\n",
    "        \"f1\": results[\"overall_f1\"],\n",
    "        \"accuracy\": results[\"overall_accuracy\"],\n",
    "    }\n",
    "\n",
    "from transformers import TrainingArguments, Trainer, EarlyStoppingCallback\n",
    "\n",
    "# Training arguments\n",
    "model_name = \"sentence-transformers/all-mpnet-base-v2\"\n",
    "#model_name = \"thenlper/gte-base\"\n",
    "epochs = 12\n",
    "batch_size = 4\n",
    "learning_rate = 6e-5\n",
    "\n",
    "args = TrainingArguments(\n",
    "    f\"all-mpnet-base-v2-finetuned-NER\",\n",
    "    #f\"thenlper/gte-base-NER\",\n",
    "    # evaluation_strategy = \"epoch\", ## Instead of focusing on loss and accuracy, we will focus on the F1 score\n",
    "    evaluation_strategy ='steps',\n",
    "    eval_steps = 7000,\n",
    "    save_total_limit = 3,\n",
    "    learning_rate=learning_rate,\n",
    "    per_device_train_batch_size=batch_size,\n",
    "    per_device_eval_batch_size=batch_size,\n",
    "    num_train_epochs=epochs,\n",
    "    weight_decay=0.001,\n",
    "    save_steps=35000,\n",
    "    metric_for_best_model = 'f1',\n",
    "    load_best_model_at_end=True\n",
    ")\n",
    "\n",
    "trainer = Trainer(\n",
    "    model2,\n",
    "    args,\n",
    "    train_dataset=tokenised_train,\n",
    "    eval_dataset=tokenised_val,\n",
    "    data_collator = data_collator,\n",
    "    tokenizer=tokenizer2,\n",
    "    compute_metrics=compute_metrics,\n",
    "    callbacks = [EarlyStoppingCallback(early_stopping_patience=3)]\n",
    ")\n",
    "\n"
   ]
  },
  {
   "cell_type": "code",
   "execution_count": 2,
   "metadata": {},
   "outputs": [
    {
     "name": "stderr",
     "output_type": "stream",
     "text": [
      "  0%|          | 0/3216 [00:00<?, ?it/s]You're using a MPNetTokenizerFast tokenizer. Please note that with a fast tokenizer, using the `__call__` method is faster than using a method to encode the text followed by a call to the `pad` method to get a padded encoding.\n",
      " 16%|█▌        | 502/3216 [00:31<02:40, 16.93it/s]"
     ]
    },
    {
     "name": "stdout",
     "output_type": "stream",
     "text": [
      "{'loss': 0.0452, 'learning_rate': 5.067164179104478e-05, 'epoch': 1.87}\n"
     ]
    },
    {
     "name": "stderr",
     "output_type": "stream",
     "text": [
      " 31%|███       | 1003/3216 [01:01<02:21, 15.64it/s]"
     ]
    },
    {
     "name": "stdout",
     "output_type": "stream",
     "text": [
      "{'loss': 0.0285, 'learning_rate': 4.1343283582089554e-05, 'epoch': 3.73}\n"
     ]
    },
    {
     "name": "stderr",
     "output_type": "stream",
     "text": [
      " 47%|████▋     | 1502/3216 [01:32<01:40, 16.98it/s]"
     ]
    },
    {
     "name": "stdout",
     "output_type": "stream",
     "text": [
      "{'loss': 0.0186, 'learning_rate': 3.201492537313433e-05, 'epoch': 5.6}\n"
     ]
    },
    {
     "name": "stderr",
     "output_type": "stream",
     "text": [
      " 62%|██████▏   | 2003/3216 [02:02<01:21, 14.81it/s]"
     ]
    },
    {
     "name": "stdout",
     "output_type": "stream",
     "text": [
      "{'loss': 0.0111, 'learning_rate': 2.2686567164179106e-05, 'epoch': 7.46}\n"
     ]
    },
    {
     "name": "stderr",
     "output_type": "stream",
     "text": [
      " 78%|███████▊  | 2503/3216 [02:33<00:42, 16.60it/s]"
     ]
    },
    {
     "name": "stdout",
     "output_type": "stream",
     "text": [
      "{'loss': 0.0059, 'learning_rate': 1.3358208955223882e-05, 'epoch': 9.33}\n"
     ]
    },
    {
     "name": "stderr",
     "output_type": "stream",
     "text": [
      " 93%|█████████▎| 3003/3216 [03:04<00:13, 16.09it/s]"
     ]
    },
    {
     "name": "stdout",
     "output_type": "stream",
     "text": [
      "{'loss': 0.0016, 'learning_rate': 4.029850746268657e-06, 'epoch': 11.19}\n"
     ]
    },
    {
     "name": "stderr",
     "output_type": "stream",
     "text": [
      "100%|██████████| 3216/3216 [03:17<00:00, 16.29it/s]"
     ]
    },
    {
     "name": "stdout",
     "output_type": "stream",
     "text": [
      "{'train_runtime': 197.418, 'train_samples_per_second': 65.161, 'train_steps_per_second': 16.29, 'train_loss': 0.017348682433737453, 'epoch': 12.0}\n"
     ]
    },
    {
     "name": "stderr",
     "output_type": "stream",
     "text": [
      "\n"
     ]
    },
    {
     "data": {
      "text/plain": [
       "TrainOutput(global_step=3216, training_loss=0.017348682433737453, metrics={'train_runtime': 197.418, 'train_samples_per_second': 65.161, 'train_steps_per_second': 16.29, 'train_loss': 0.017348682433737453, 'epoch': 12.0})"
      ]
     },
     "execution_count": 2,
     "metadata": {},
     "output_type": "execute_result"
    }
   ],
   "source": [
    "trainer.train()"
   ]
  },
  {
   "cell_type": "code",
   "execution_count": 3,
   "metadata": {},
   "outputs": [
    {
     "name": "stderr",
     "output_type": "stream",
     "text": [
      " 79%|███████▉  | 31/39 [00:00<00:00, 89.63it/s]c:\\Users\\James\\Desktop\\Files\\Education\\Surrey\\NLP\\group-enviroment\\.conda\\lib\\site-packages\\seqeval\\metrics\\sequence_labeling.py:171: UserWarning: [0, 0, 0, 0, 2, 2, 2, 2, 2, 0, 1, 0, 0, 0, 0] seems not to be NE tag.\n",
      "  warnings.warn('{} seems not to be NE tag.'.format(chunk))\n",
      "c:\\Users\\James\\Desktop\\Files\\Education\\Surrey\\NLP\\group-enviroment\\.conda\\lib\\site-packages\\seqeval\\metrics\\sequence_labeling.py:171: UserWarning: [0, 0, 0, 0, 0, 0, 0, 2, 2, 0, 1, 0, 0, 0, 0, 0, 0, 0, 2, 2, 0, 1, 0, 0, 0, 0, 0, 0, 0, 2, 2, 2, 0, 1, 0, 0, 0, 0, 0, 0, 2, 2, 2, 1, 0, 1, 0, 0, 0, 0, 0, 0] seems not to be NE tag.\n",
      "  warnings.warn('{} seems not to be NE tag.'.format(chunk))\n",
      "c:\\Users\\James\\Desktop\\Files\\Education\\Surrey\\NLP\\group-enviroment\\.conda\\lib\\site-packages\\seqeval\\metrics\\sequence_labeling.py:171: UserWarning: [0, 1, 0, 0, 0, 0, 0, 0, 0, 0, 0, 2, 2, 2, 0, 1, 0, 0, 0, 0, 2, 2, 2, 0, 1, 0, 0, 0, 0, 0] seems not to be NE tag.\n",
      "  warnings.warn('{} seems not to be NE tag.'.format(chunk))\n",
      "100%|██████████| 39/39 [00:00<00:00, 60.90it/s]\n",
      "c:\\Users\\James\\Desktop\\Files\\Education\\Surrey\\NLP\\group-enviroment\\.conda\\lib\\site-packages\\seqeval\\metrics\\sequence_labeling.py:171: UserWarning: [0, 0, 1, 0, 2, 2, 2, 2, 0, 1, 0, 2, 2, 2, 0] seems not to be NE tag.\n",
      "  warnings.warn('{} seems not to be NE tag.'.format(chunk))\n",
      "c:\\Users\\James\\Desktop\\Files\\Education\\Surrey\\NLP\\group-enviroment\\.conda\\lib\\site-packages\\seqeval\\metrics\\sequence_labeling.py:171: UserWarning: [0, 0, 0, 0, 0, 0, 0, 0, 0, 0, 0, 0, 0, 0, 0, 0, 0, 2, 0, 1, 0, 0, 0, 0, 0, 0, 0, 0, 0, 0, 0, 0, 0, 0, 0, 0, 0, 0, 0, 0, 1, 0, 0, 0, 0, 0, 0, 0, 0, 0, 0, 0, 0, 0, 0, 0, 0, 0, 0, 0, 0, 0, 0, 0, 0, 0, 0, 2, 2, 2, 0, 1, 0, 0, 0, 0, 0, 1, 0, 0, 0, 0, 0, 0, 0] seems not to be NE tag.\n",
      "  warnings.warn('{} seems not to be NE tag.'.format(chunk))\n",
      "c:\\Users\\James\\Desktop\\Files\\Education\\Surrey\\NLP\\group-enviroment\\.conda\\lib\\site-packages\\seqeval\\metrics\\sequence_labeling.py:171: UserWarning: [0, 0, 0, 0, 0, 2, 2, 2, 2, 0, 1, 0, 0, 0, 0, 0, 0, 0, 0, 0, 0, 0, 0, 0, 0, 0, 0] seems not to be NE tag.\n",
      "  warnings.warn('{} seems not to be NE tag.'.format(chunk))\n"
     ]
    },
    {
     "data": {
      "text/plain": [
       "{'0, 0, 0, 0, 0, 0, 0, 0, 0, 0, 0, 0, 0, 0, 0, 0, 0, 2, 0, 1, 0, 0, 0, 0, 0, 0, 0, 0, 0, 0, 0, 0, 0, 0, 0, 0, 0, 0, 0, 0, 1, 0, 0, 0, 0, 0, 0, 0, 0, 0, 0, 0, 0, 0, 0, 0, 0, 0, 0, 0, 0, 0, 0, 0, 0, 0, 0, 2, 2, 2, 0, 1, 0, 0, 0, 0, 0, 1, 0, 0, 0, 0, 0, 0, 0]': {'precision': 0.75,\n",
       "  'recall': 0.8089887640449438,\n",
       "  'f1': 0.7783783783783783,\n",
       "  'number': 267},\n",
       " '0, 0, 0, 0, 0, 2, 2, 2, 2, 0, 1, 0, 0, 0, 0, 0, 0, 0, 0, 0, 0, 0, 0, 0, 0, 0, 0]': {'precision': 0.7378048780487805,\n",
       "  'recall': 0.8013245033112583,\n",
       "  'f1': 0.7682539682539684,\n",
       "  'number': 151},\n",
       " '0, 0, 1, 0, 2, 2, 2, 2, 0, 1, 0, 2, 2, 2, 0]': {'precision': 0.7102473498233216,\n",
       "  'recall': 0.75,\n",
       "  'f1': 0.7295825771324863,\n",
       "  'number': 536},\n",
       " 'overall_precision': 0.7259332023575639,\n",
       " 'overall_recall': 0.7746331236897275,\n",
       " 'overall_f1': 0.7494929006085191,\n",
       " 'overall_accuracy': 0.9400090211998195}"
      ]
     },
     "execution_count": 3,
     "metadata": {},
     "output_type": "execute_result"
    }
   ],
   "source": [
    "# Prepare the test data for evaluation in the same format as the training data\n",
    "\n",
    "predictions, labels, _ = trainer.predict(tokenised_test)\n",
    "predictions = np.argmax(predictions, axis=2)\n",
    "\n",
    "# Remove the predictions for the [CLS] and [SEP] tokens \n",
    "true_predictions = [\n",
    "    [test_label_list[p] for (p, l) in zip(prediction, label) if l != -100]\n",
    "    for prediction, label in zip(predictions, labels)\n",
    "]\n",
    "true_labels = [\n",
    "    [test_label_list[l] for (p, l) in zip(prediction, label) if l != -100]\n",
    "    for prediction, label in zip(predictions, labels)\n",
    "]\n",
    "\n",
    "# Compute multiple metrics on the test results\n",
    "results = metric.compute(predictions=true_predictions, references=true_labels)\n",
    "results"
   ]
  },
  {
   "cell_type": "code",
   "execution_count": 4,
   "metadata": {},
   "outputs": [
    {
     "name": "stdout",
     "output_type": "stream",
     "text": [
      "[0 0 0 0 1 0 2 2 2 2 2 2 2 0 1 0 2 2 2 2 2 0 0 0 0 0 0 0 0 0 0 0 0 0 0 0 0\n",
      " 0 0 0 0 0 0 0 0 0 0 0 0 0 0 0 0 0 0 0 0 0 0 0 0 0 0 0 0 0 0 0 0 0 0 0 0 0\n",
      " 0 0 0 0 0 0 0 0 0 0 0 0 0 0 0 0 0 0 0 0 0 0 0 0 0 0 0 0 0 0 0 0 0 0 0 0 0\n",
      " 0 0 0 0 0 0 0 0 0 0 0 0 0 0 0 0 0 0 0 0 0 0 0 0]\n",
      "[-100    0    0    0    1    0    2    2    2    2    2    2    2    0\n",
      "    1    0    2    2    2    2    2    0 -100 -100 -100 -100 -100 -100\n",
      " -100 -100 -100 -100 -100 -100 -100 -100 -100 -100 -100 -100 -100 -100\n",
      " -100 -100 -100 -100 -100 -100 -100 -100 -100 -100 -100 -100 -100 -100\n",
      " -100 -100 -100 -100 -100 -100 -100 -100 -100 -100 -100 -100 -100 -100\n",
      " -100 -100 -100 -100 -100 -100 -100 -100 -100 -100 -100 -100 -100 -100\n",
      " -100 -100 -100 -100 -100 -100 -100 -100 -100 -100 -100 -100 -100 -100\n",
      " -100 -100 -100 -100 -100 -100 -100 -100 -100 -100 -100 -100 -100 -100\n",
      " -100 -100 -100 -100 -100 -100 -100 -100 -100 -100 -100 -100 -100 -100\n",
      " -100 -100 -100 -100 -100 -100 -100 -100 -100]\n"
     ]
    }
   ],
   "source": [
    "\n",
    "print(predictions[0])\n",
    "print(labels[0])\n",
    "true_labels = []\n",
    "true_predictions = []\n",
    "true_labels_sep = []\n",
    "true_predictions_sep = []\n",
    "for i in range(len(labels)):\n",
    "  templist = []#range(sum(labels[0] != -100))\n",
    "  templist2 = []\n",
    "  for j in range(len(labels[i])):\n",
    "    if labels[i][j]!= -100:\n",
    "      true_labels.append(labels[i][j])\n",
    "      true_predictions.append(predictions[i][j])\n",
    "      templist.append(labels[i][j])\n",
    "      templist2.append(predictions[i][j])\n",
    "  true_labels_sep.append(templist)\n",
    "  true_predictions_sep.append(templist2)\n",
    "\n",
    "\n"
   ]
  },
  {
   "cell_type": "code",
   "execution_count": 7,
   "metadata": {},
   "outputs": [
    {
     "data": {
      "image/png": "[encoded data removed]",
      "text/plain": [
       "<Figure size 1000x800 with 2 Axes>"
      ]
     },
     "metadata": {},
     "output_type": "display_data"
    }
   ],
   "source": [
    "from sklearn.metrics import confusion_matrix\n",
    "from sklearn.metrics import accuracy_score\n",
    "from sklearn import metrics\n",
    "import matplotlib.pyplot as plt\n",
    "import seaborn as sns\n",
    "conf_mat = confusion_matrix(true_labels, true_predictions)\n",
    "plt.figure(figsize=(10, 8))\n",
    "sns.heatmap(conf_mat, annot=True, fmt=\"d\", cmap='Blues', xticklabels=[\"Other\", \"Abbreviation\",\"Long Form\"], yticklabels=[\"Other\", \"Abbreviation\",\"Long Form\"])\n",
    "plt.xlabel('Predicted Labels')\n",
    "plt.ylabel('True Labels')\n",
    "plt.title('Fine Tuning')\n",
    "plt.show()\n",
    "plt.savefig('confusionmatrix.png')"
   ]
  },
  {
   "cell_type": "code",
   "execution_count": 8,
   "metadata": {},
   "outputs": [
    {
     "name": "stdout",
     "output_type": "stream",
     "text": [
      "Encoding(num_tokens=23, attributes=[ids, type_ids, tokens, offsets, attention_mask, special_tokens_mask, overflowing])\n",
      "{'tokens': ['Abbreviations', ':', 'GEMS', ',', 'Global', 'Enteric', 'Multicenter', 'Study', ';', 'VIP', ',', 'ventilated', 'improved', 'pit', '.'], 'pos_tags': ['NOUN', 'PUNCT', 'PROPN', 'PUNCT', 'PROPN', 'PROPN', 'PROPN', 'PROPN', 'PUNCT', 'PROPN', 'PUNCT', 'VERB', 'ADJ', 'NOUN', 'PUNCT'], 'ner_tags': ['B-O', 'B-O', 'B-AC', 'B-O', 'B-LF', 'I-LF', 'I-LF', 'I-LF', 'B-O', 'B-AC', 'B-O', 'B-LF', 'I-LF', 'I-LF', 'B-O']}\n",
      "[0, 0, 1, 0, 2, 2, 2, 2, 0, 1, 0, 2, 2, 2, 0]\n",
      "[0, 0, 0, 1, 0, 2, 2, 2, 2, 2, 2, 2, 0, 1, 0, 2, 2, 2, 2, 2, 0]\n",
      "[0, 22502, 2019, 1028, 20300, 1014, 3799, 4611, 2598, 4804, 13017, 2125, 2821, 1029, 21726, 1014, 18838, 11737, 3068, 5305, 6774, 1016, 2]\n",
      "['<s>', 'abbreviation', '##s', ':', 'gems', ',', 'global', 'enter', '##ic', 'multi', '##cent', '##er', 'study', ';', 'vip', ',', 'vent', '##ila', '##ted', 'improved', 'pit', '.', '</s>']\n",
      "<s> abbreviations : gems, global enteric multicenter study ; vip, ventilated improved pit. </s>\n"
     ]
    }
   ],
   "source": [
    "print(tokenized_test_datasets[0])\n",
    "#print(tokenised_test[0])\n",
    "print(test_dataset[0])\n",
    "print(test_label_list[0])\n",
    "print(true_labels_sep[0])\n",
    "\n",
    "\n",
    "#print(tokenized_test_datasets)\n",
    "# Example single sentence example.\n",
    "for token in tokenized_test_datasets[\"input_ids\"]:\n",
    "    print(token)\n",
    "    print(tokenizer2.convert_ids_to_tokens(token))\n",
    "    print(tokenizer2.convert_tokens_to_string(tokenizer2.convert_ids_to_tokens(token)))\n",
    "    break"
   ]
  },
  {
   "cell_type": "code",
   "execution_count": 24,
   "metadata": {},
   "outputs": [],
   "source": [
    "trainer.save_model()"
   ]
  }
 ],
 "metadata": {
  "kernelspec": {
   "display_name": "Python 3",
   "language": "python",
   "name": "python3"
  },
  "language_info": {
   "codemirror_mode": {
    "name": "ipython",
    "version": 3
   },
   "file_extension": ".py",
   "mimetype": "text/x-python",
   "name": "python",
   "nbconvert_exporter": "python",
   "pygments_lexer": "ipython3",
   "version": "3.9.19"
  }
 },
 "nbformat": 4,
 "nbformat_minor": 2
}
